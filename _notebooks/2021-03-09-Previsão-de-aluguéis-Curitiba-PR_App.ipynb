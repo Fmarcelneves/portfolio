{
  "nbformat": 4,
  "nbformat_minor": 0,
  "metadata": {
    "colab": {
      "name": "2021-03-09-Previsão de aluguéis - Curitiba-PR-App.ipynb",
      "provenance": []
    },
    "kernelspec": {
      "name": "python3",
      "display_name": "Python 3"
    }
  },
  "cells": [
    {
      "cell_type": "markdown",
      "metadata": {
        "id": "J4vCjuSlDx-_"
      },
      "source": [
        "# \"WebApp de Previsão de aluguéis - Curitiba-PR\"\r\n",
        "> \"Prevendo o valor de um apartamento dentro da cidade de Curitiba-PR. - Streamlit app\"\r\n",
        "\r\n",
        "- toc: true\r\n",
        "- badges: true\r\n",
        "- comments: true\r\n",
        "- author: Felipe Marcel Neves\r\n",
        "- categories: [Data Science, Rental prediction, Modelo de regressão, Web-scraping, App, Deploy] "
      ]
    },
    {
      "cell_type": "markdown",
      "metadata": {
        "id": "CGtefo2EWNq2"
      },
      "source": [
        "![](https://raw.githubusercontent.com/fmarcelneves/Rental-price-analysis-and-forecast-Curitiba-PR/main/Images_regionais/streamlit_app.png)"
      ]
    },
    {
      "cell_type": "markdown",
      "metadata": {
        "id": "VBdCmjPxMEjq"
      },
      "source": [
        "> Link: https://share.streamlit.io/fmarcelneves/rental-price-analysis-and-forecast-curitiba-pr/main/deploy/rent_prediction_curitiba_pr_streamlit_app.py"
      ]
    }
  ]
}
