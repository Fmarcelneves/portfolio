{
  "nbformat": 4,
  "nbformat_minor": 0,
  "metadata": {
    "colab": {
      "name": "2021-02-20-RH-Analytics-e-Machine-Learning.ipynb",
      "provenance": []
    },
    "kernelspec": {
      "name": "python3",
      "display_name": "Python 3"
    }
  },
  "cells": [
    {
      "cell_type": "markdown",
      "metadata": {
        "id": "J4vCjuSlDx-_"
      },
      "source": [
        "# \"RH Analytics e Machine Learning\"\r\n",
        "> \"Análise exploratória e preditiva de um dataset da IBM sobre rotatividade de funcionários - Post sobre o projeto publicado no Medium\"\r\n",
        "\r\n",
        "- toc: true\r\n",
        "- badges: true\r\n",
        "- comments: true\r\n",
        "- author: Felipe Marcel Neves\r\n",
        "- categories: [Data Science, RH Analytics, Modelos de classificação, Tree-based models, Dados não balanceados, Projeto] "
      ]
    },
    {
      "cell_type": "markdown",
      "metadata": {
        "id": "SSY93U0MNowR"
      },
      "source": [
        "![](https://miro.medium.com/max/2400/1*j9XMrRKK5ZEN125iHkC8BA.jpeg)"
      ]
    },
    {
      "cell_type": "markdown",
      "metadata": {
        "id": "VBdCmjPxMEjq"
      },
      "source": [
        "> Link: https://fmarcelneves.medium.com/rh-analytics-e-machine-learning-e584635d7d87?source=friends_link&sk=7720272d4edf972c1131d51c18a457cf"
      ]
    }
  ]
}
