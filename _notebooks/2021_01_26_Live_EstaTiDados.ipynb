{
  "nbformat": 4,
  "nbformat_minor": 0,
  "metadata": {
    "colab": {
      "name": "2021-01-26-Live-EstaTiDados.ipynb",
      "provenance": []
    },
    "kernelspec": {
      "name": "python3",
      "display_name": "Python 3"
    }
  },
  "cells": [
    {
      "cell_type": "code",
      "metadata": {
        "id": "z9p1vpEuZrYO"
      },
      "source": [
        "# \"My Title\"\n",
        "> \"Estudos de caso de Redes Complexas no Twitter - Live no Canal do Youtube EstaTiDados, o maior canal de ciência de dados e estatística da América Latina\"\n",
        "\n",
        "- toc:true- branch: master- badges: true- comments: true\n",
        "- author: Felipe\n",
        "- categories: [Lives, Twitter, Redes Complexas]"
      ],
      "execution_count": null,
      "outputs": []
    },
    {
      "cell_type": "code",
      "metadata": {
        "id": "sMxIOEbRY_Eh"
      },
      "source": [
        "> youtube: https://www.youtube.com/watch?v=jAl-GvLnAiw&t=7s"
      ],
      "execution_count": null,
      "outputs": []
    }
  ]
}