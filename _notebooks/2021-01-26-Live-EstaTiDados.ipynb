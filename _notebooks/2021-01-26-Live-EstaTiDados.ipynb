{
  "nbformat": 4,
  "nbformat_minor": 0,
  "metadata": {
    "colab": {
      "name": "2021-01-26-Live-EstaTiDados.ipynb",
      "provenance": [],
      "collapsed_sections": []
    },
    "kernelspec": {
      "name": "python3",
      "display_name": "Python 3"
    }
  },
  "cells": [
    {
      "cell_type": "markdown",
      "metadata": {
        "id": "C2miSP8bBDo2"
      },
      "source": [
        "# \"Estudos de caso de Redes Complexas no Twitter - Live no Canal EstaTiDados\"\r\n",
        "> \"Apresentação realizada em Dezembro no Canal EstaTiDados (o maior canal do Youtube de ciência de dados e estatística da América Latina) sobre sistemas complexos, e meu projeto em andamento de Data Science sobre redes complexas e análise de sentimentos no Twitter\"\r\n",
        "\r\n",
        "- toc: true\r\n",
        "- badges: true\r\n",
        "- comments: true\r\n",
        "- author: Felipe\r\n",
        "- categories: [Lives, Twitter, Redes Complexas]"
      ]
    },
    {
      "cell_type": "markdown",
      "metadata": {
        "id": "JwjTRjdyBwjO"
      },
      "source": [
        "> youtube: https://youtu.be/jAl-GvLnAiw"
      ]
    }
  ]
}