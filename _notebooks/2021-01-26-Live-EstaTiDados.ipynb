{
  "nbformat": 4,
  "nbformat_minor": 0,
  "metadata": {
    "colab": {
      "name": "2021-01-26-Live-EstaTiDados.ipynb",
      "provenance": [],
      "collapsed_sections": []
    },
    "kernelspec": {
      "name": "python3",
      "display_name": "Python 3"
    }
  },
  "cells": [
    {
      "cell_type": "markdown",
      "metadata": {
        "id": "C2miSP8bBDo2"
      },
      "source": [
        "# Estudos de caso de Redes Complexas no Twitter - Live no Canal do Youtube EstaTiDados, o maior canal de ciência de dados e estatística da América Latina\r\n",
        "> \"Estudos de caso de Redes Complexas no Twitter - Live no Canal do Youtube EstaTiDados, o maior canal de ciência de dados e estatística da América Latina\"\r\n",
        "\r\n",
        "- toc:true- branch: master- badges: true- comments: true\r\n",
        "- author: Felipe\r\n",
        "- categories: [Lives, Twitter, Redes Complexas]"
      ]
    },
    {
      "cell_type": "markdown",
      "metadata": {
        "id": "JwjTRjdyBwjO"
      },
      "source": [
        "> youtube: https://www.youtube.com/watch?v=jAl-GvLnAiw&t=7s"
      ]
    }
  ]
}