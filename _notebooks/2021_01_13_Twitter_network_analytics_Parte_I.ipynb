{
  "nbformat": 4,
  "nbformat_minor": 0,
  "metadata": {
    "colab": {
      "name": "2021-01-13-Twitter-network-analytics-Parte-I.ipynb",
      "provenance": []
    },
    "kernelspec": {
      "name": "python3",
      "display_name": "Python 3"
    }
  },
  "cells": [
    {
      "cell_type": "markdown",
      "metadata": {
        "id": "J4vCjuSlDx-_"
      },
      "source": [
        "# \"Twitter network analytics — Parte I\"\r\n",
        "> \"Um framework para análise de dados de redes sociais usando análises de sentimentos e medidas de redes complexas - Post publicado no Medium\"\r\n",
        "\r\n",
        "- toc: true\r\n",
        "- badges: true\r\n",
        "- comments: true\r\n",
        "- author: Felipe Marcel Neves\r\n",
        "- categories: [Data Science, Twitter, Medium, Redes Complexas, Análise de sentimento] "
      ]
    },
    {
      "cell_type": "markdown",
      "metadata": {
        "id": "SSY93U0MNowR"
      },
      "source": [
        "![](https://miro.medium.com/max/2400/1*CJY3IZg1tMj9ifu3po2y_Q.png)"
      ]
    },
    {
      "cell_type": "markdown",
      "metadata": {
        "id": "VBdCmjPxMEjq"
      },
      "source": [
        "> Link: https://fmarcelneves.medium.com/twitter-network-analytics-fcb01272e2fd?source=friends_link&sk=61c8b463611b90e3cb52d20a07f0e914"
      ]
    }
  ]
}