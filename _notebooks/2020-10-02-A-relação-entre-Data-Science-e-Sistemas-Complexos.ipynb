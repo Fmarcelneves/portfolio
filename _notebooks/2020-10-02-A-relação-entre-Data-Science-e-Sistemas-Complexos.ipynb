{
  "nbformat": 4,
  "nbformat_minor": 0,
  "metadata": {
    "colab": {
      "name": "2020-10-02-A relação-entre-Data Science-e-Sistemas-Complexos.ipynb",
      "provenance": []
    },
    "kernelspec": {
      "name": "python3",
      "display_name": "Python 3"
    }
  },
  "cells": [
    {
      "cell_type": "markdown",
      "metadata": {
        "id": "J4vCjuSlDx-_"
      },
      "source": [
        "# \"A relação entre Data Science e Sistemas Complexos\"\r\n",
        "> \"Post publicado no Medium\"\r\n",
        "\r\n",
        "- toc:true- branch: master- badges: true- comments: true\r\n",
        "- author: Felipe Marcel Neves \r\n",
        "- categories: [Data Science, Sistemas Complexos, Medium] "
      ]
    },
    {
      "cell_type": "markdown",
      "metadata": {
        "id": "SSY93U0MNowR"
      },
      "source": [
        "![](https://miro.medium.com/max/875/1*zPuSE5k5JkGFWbfbBmBZsw.jpeg)"
      ]
    },
    {
      "cell_type": "markdown",
      "metadata": {
        "id": "VBdCmjPxMEjq"
      },
      "source": [
        "> Link: https://fmarcelneves.medium.com/a-rela%C3%A7%C3%A3o-entre-data-science-e-sistemas-complexos-4159a042b158"
      ]
    }
  ]
}